{
 "cells": [
  {
   "cell_type": "code",
   "execution_count": 1,
   "metadata": {},
   "outputs": [],
   "source": [
    "import numpy as np \n",
    "import pandas as pd\n",
    "from tqdm import tqdm\n",
    "import re\n",
    "from sklearn.model_selection import train_test_split\n",
    "from nltk import word_tokenize\n",
    "from sklearn.feature_extraction.text import TfidfVectorizer\n",
    "from collections import Counter\n",
    "from nltk.corpus import stopwords\n",
    "from nltk.stem import WordNetLemmatizer\n",
    "import matplotlib.colors as mcolors\n",
    "from sklearn.manifold import TSNE\n",
    "import nltk"
   ]
  },
  {
   "cell_type": "code",
   "execution_count": 2,
   "metadata": {},
   "outputs": [],
   "source": [
    "df=pd.read_csv('zomato.csv')"
   ]
  },
  {
   "cell_type": "code",
   "execution_count": 3,
   "metadata": {},
   "outputs": [
    {
     "data": {
      "text/html": [
       "<div>\n",
       "<style scoped>\n",
       "    .dataframe tbody tr th:only-of-type {\n",
       "        vertical-align: middle;\n",
       "    }\n",
       "\n",
       "    .dataframe tbody tr th {\n",
       "        vertical-align: top;\n",
       "    }\n",
       "\n",
       "    .dataframe thead th {\n",
       "        text-align: right;\n",
       "    }\n",
       "</style>\n",
       "<table border=\"1\" class=\"dataframe\">\n",
       "  <thead>\n",
       "    <tr style=\"text-align: right;\">\n",
       "      <th></th>\n",
       "      <th>url</th>\n",
       "      <th>address</th>\n",
       "      <th>name</th>\n",
       "      <th>online_order</th>\n",
       "      <th>book_table</th>\n",
       "      <th>rate</th>\n",
       "      <th>votes</th>\n",
       "      <th>phone</th>\n",
       "      <th>location</th>\n",
       "      <th>rest_type</th>\n",
       "      <th>dish_liked</th>\n",
       "      <th>cuisines</th>\n",
       "      <th>approx_cost(for two people)</th>\n",
       "      <th>reviews_list</th>\n",
       "      <th>menu_item</th>\n",
       "      <th>listed_in(type)</th>\n",
       "      <th>listed_in(city)</th>\n",
       "    </tr>\n",
       "  </thead>\n",
       "  <tbody>\n",
       "    <tr>\n",
       "      <th>0</th>\n",
       "      <td>https://www.zomato.com/bangalore/jalsa-banasha...</td>\n",
       "      <td>942, 21st Main Road, 2nd Stage, Banashankari, ...</td>\n",
       "      <td>Jalsa</td>\n",
       "      <td>Yes</td>\n",
       "      <td>Yes</td>\n",
       "      <td>4.1/5</td>\n",
       "      <td>775</td>\n",
       "      <td>080 42297555\\r\\n+91 9743772233</td>\n",
       "      <td>Banashankari</td>\n",
       "      <td>Casual Dining</td>\n",
       "      <td>Pasta, Lunch Buffet, Masala Papad, Paneer Laja...</td>\n",
       "      <td>North Indian, Mughlai, Chinese</td>\n",
       "      <td>800</td>\n",
       "      <td>[('Rated 4.0', 'RATED\\n  A beautiful place to ...</td>\n",
       "      <td>[]</td>\n",
       "      <td>Buffet</td>\n",
       "      <td>Banashankari</td>\n",
       "    </tr>\n",
       "    <tr>\n",
       "      <th>1</th>\n",
       "      <td>https://www.zomato.com/bangalore/spice-elephan...</td>\n",
       "      <td>2nd Floor, 80 Feet Road, Near Big Bazaar, 6th ...</td>\n",
       "      <td>Spice Elephant</td>\n",
       "      <td>Yes</td>\n",
       "      <td>No</td>\n",
       "      <td>4.1/5</td>\n",
       "      <td>787</td>\n",
       "      <td>080 41714161</td>\n",
       "      <td>Banashankari</td>\n",
       "      <td>Casual Dining</td>\n",
       "      <td>Momos, Lunch Buffet, Chocolate Nirvana, Thai G...</td>\n",
       "      <td>Chinese, North Indian, Thai</td>\n",
       "      <td>800</td>\n",
       "      <td>[('Rated 4.0', 'RATED\\n  Had been here for din...</td>\n",
       "      <td>[]</td>\n",
       "      <td>Buffet</td>\n",
       "      <td>Banashankari</td>\n",
       "    </tr>\n",
       "    <tr>\n",
       "      <th>2</th>\n",
       "      <td>https://www.zomato.com/SanchurroBangalore?cont...</td>\n",
       "      <td>1112, Next to KIMS Medical College, 17th Cross...</td>\n",
       "      <td>San Churro Cafe</td>\n",
       "      <td>Yes</td>\n",
       "      <td>No</td>\n",
       "      <td>3.8/5</td>\n",
       "      <td>918</td>\n",
       "      <td>+91 9663487993</td>\n",
       "      <td>Banashankari</td>\n",
       "      <td>Cafe, Casual Dining</td>\n",
       "      <td>Churros, Cannelloni, Minestrone Soup, Hot Choc...</td>\n",
       "      <td>Cafe, Mexican, Italian</td>\n",
       "      <td>800</td>\n",
       "      <td>[('Rated 3.0', \"RATED\\n  Ambience is not that ...</td>\n",
       "      <td>[]</td>\n",
       "      <td>Buffet</td>\n",
       "      <td>Banashankari</td>\n",
       "    </tr>\n",
       "  </tbody>\n",
       "</table>\n",
       "</div>"
      ],
      "text/plain": [
       "                                                 url  \\\n",
       "0  https://www.zomato.com/bangalore/jalsa-banasha...   \n",
       "1  https://www.zomato.com/bangalore/spice-elephan...   \n",
       "2  https://www.zomato.com/SanchurroBangalore?cont...   \n",
       "\n",
       "                                             address             name  \\\n",
       "0  942, 21st Main Road, 2nd Stage, Banashankari, ...            Jalsa   \n",
       "1  2nd Floor, 80 Feet Road, Near Big Bazaar, 6th ...   Spice Elephant   \n",
       "2  1112, Next to KIMS Medical College, 17th Cross...  San Churro Cafe   \n",
       "\n",
       "  online_order book_table   rate  votes                           phone  \\\n",
       "0          Yes        Yes  4.1/5    775  080 42297555\\r\\n+91 9743772233   \n",
       "1          Yes         No  4.1/5    787                    080 41714161   \n",
       "2          Yes         No  3.8/5    918                  +91 9663487993   \n",
       "\n",
       "       location            rest_type  \\\n",
       "0  Banashankari        Casual Dining   \n",
       "1  Banashankari        Casual Dining   \n",
       "2  Banashankari  Cafe, Casual Dining   \n",
       "\n",
       "                                          dish_liked  \\\n",
       "0  Pasta, Lunch Buffet, Masala Papad, Paneer Laja...   \n",
       "1  Momos, Lunch Buffet, Chocolate Nirvana, Thai G...   \n",
       "2  Churros, Cannelloni, Minestrone Soup, Hot Choc...   \n",
       "\n",
       "                         cuisines approx_cost(for two people)  \\\n",
       "0  North Indian, Mughlai, Chinese                         800   \n",
       "1     Chinese, North Indian, Thai                         800   \n",
       "2          Cafe, Mexican, Italian                         800   \n",
       "\n",
       "                                        reviews_list menu_item  \\\n",
       "0  [('Rated 4.0', 'RATED\\n  A beautiful place to ...        []   \n",
       "1  [('Rated 4.0', 'RATED\\n  Had been here for din...        []   \n",
       "2  [('Rated 3.0', \"RATED\\n  Ambience is not that ...        []   \n",
       "\n",
       "  listed_in(type) listed_in(city)  \n",
       "0          Buffet    Banashankari  \n",
       "1          Buffet    Banashankari  \n",
       "2          Buffet    Banashankari  "
      ]
     },
     "execution_count": 3,
     "metadata": {},
     "output_type": "execute_result"
    }
   ],
   "source": [
    "df.head(3)"
   ]
  },
  {
   "cell_type": "markdown",
   "metadata": {},
   "source": [
    "Combinig each rating score and review for all restraunts in the data set"
   ]
  },
  {
   "cell_type": "markdown",
   "metadata": {},
   "source": [
    "Python TQDM is an iteration visualization and information library"
   ]
  },
  {
   "cell_type": "code",
   "execution_count": 4,
   "metadata": {},
   "outputs": [],
   "source": [
    "value = zip(df['name'],df['reviews_list'])\n",
    "name_rating=[]"
   ]
  },
  {
   "cell_type": "code",
   "execution_count": 5,
   "metadata": {},
   "outputs": [
    {
     "name": "stderr",
     "output_type": "stream",
     "text": [
      "51717it [00:24, 2145.07it/s]\n"
     ]
    }
   ],
   "source": [
    "for name,rating in tqdm(value):\n",
    "    rating=eval(rating)\n",
    "    for score,review in rating:\n",
    "        if score:\n",
    "            score=score.strip(\"Rated\").strip()\n",
    "            review=review.strip(\"RATED\").strip()\n",
    "            score=float(score)\n",
    "            name_rating.append([name,score, review])\n",
    "            "
   ]
  },
  {
   "cell_type": "code",
   "execution_count": 6,
   "metadata": {},
   "outputs": [],
   "source": [
    "ratingDF=pd.DataFrame(name_rating,columns=['name','rating','review'])"
   ]
  },
  {
   "cell_type": "code",
   "execution_count": 7,
   "metadata": {},
   "outputs": [
    {
     "data": {
      "text/html": [
       "<div>\n",
       "<style scoped>\n",
       "    .dataframe tbody tr th:only-of-type {\n",
       "        vertical-align: middle;\n",
       "    }\n",
       "\n",
       "    .dataframe tbody tr th {\n",
       "        vertical-align: top;\n",
       "    }\n",
       "\n",
       "    .dataframe thead th {\n",
       "        text-align: right;\n",
       "    }\n",
       "</style>\n",
       "<table border=\"1\" class=\"dataframe\">\n",
       "  <thead>\n",
       "    <tr style=\"text-align: right;\">\n",
       "      <th></th>\n",
       "      <th>name</th>\n",
       "      <th>rating</th>\n",
       "      <th>review</th>\n",
       "    </tr>\n",
       "  </thead>\n",
       "  <tbody>\n",
       "    <tr>\n",
       "      <th>0</th>\n",
       "      <td>Jalsa</td>\n",
       "      <td>4.0</td>\n",
       "      <td>A beautiful place to dine in.The interiors tak...</td>\n",
       "    </tr>\n",
       "    <tr>\n",
       "      <th>1</th>\n",
       "      <td>Jalsa</td>\n",
       "      <td>4.0</td>\n",
       "      <td>I was here for dinner with my family on a week...</td>\n",
       "    </tr>\n",
       "    <tr>\n",
       "      <th>2</th>\n",
       "      <td>Jalsa</td>\n",
       "      <td>2.0</td>\n",
       "      <td>Its a restaurant near to Banashankari BDA. Me ...</td>\n",
       "    </tr>\n",
       "    <tr>\n",
       "      <th>3</th>\n",
       "      <td>Jalsa</td>\n",
       "      <td>4.0</td>\n",
       "      <td>We went here on a weekend and one of us had th...</td>\n",
       "    </tr>\n",
       "    <tr>\n",
       "      <th>4</th>\n",
       "      <td>Jalsa</td>\n",
       "      <td>5.0</td>\n",
       "      <td>The best thing about the place is itÃÃÃÃ...</td>\n",
       "    </tr>\n",
       "  </tbody>\n",
       "</table>\n",
       "</div>"
      ],
      "text/plain": [
       "    name  rating                                             review\n",
       "0  Jalsa     4.0  A beautiful place to dine in.The interiors tak...\n",
       "1  Jalsa     4.0  I was here for dinner with my family on a week...\n",
       "2  Jalsa     2.0  Its a restaurant near to Banashankari BDA. Me ...\n",
       "3  Jalsa     4.0  We went here on a weekend and one of us had th...\n",
       "4  Jalsa     5.0  The best thing about the place is itÃÃÃÃ..."
      ]
     },
     "execution_count": 7,
     "metadata": {},
     "output_type": "execute_result"
    }
   ],
   "source": [
    "ratingDF.head()"
   ]
  },
  {
   "cell_type": "markdown",
   "metadata": {},
   "source": [
    "Removing everything except the alphabets, numbers and spaces from the review column"
   ]
  },
  {
   "cell_type": "code",
   "execution_count": 8,
   "metadata": {},
   "outputs": [],
   "source": [
    "ratingDF['review']=ratingDF['review'].apply(lambda x: re.sub('[^a-zA-Z0-9\\s]',\"\",x))"
   ]
  },
  {
   "cell_type": "code",
   "execution_count": 9,
   "metadata": {},
   "outputs": [
    {
     "data": {
      "text/html": [
       "<div>\n",
       "<style scoped>\n",
       "    .dataframe tbody tr th:only-of-type {\n",
       "        vertical-align: middle;\n",
       "    }\n",
       "\n",
       "    .dataframe tbody tr th {\n",
       "        vertical-align: top;\n",
       "    }\n",
       "\n",
       "    .dataframe thead th {\n",
       "        text-align: right;\n",
       "    }\n",
       "</style>\n",
       "<table border=\"1\" class=\"dataframe\">\n",
       "  <thead>\n",
       "    <tr style=\"text-align: right;\">\n",
       "      <th></th>\n",
       "      <th>name</th>\n",
       "      <th>rating</th>\n",
       "      <th>review</th>\n",
       "    </tr>\n",
       "  </thead>\n",
       "  <tbody>\n",
       "    <tr>\n",
       "      <th>0</th>\n",
       "      <td>Jalsa</td>\n",
       "      <td>4.0</td>\n",
       "      <td>A beautiful place to dine inThe interiors take...</td>\n",
       "    </tr>\n",
       "    <tr>\n",
       "      <th>1</th>\n",
       "      <td>Jalsa</td>\n",
       "      <td>4.0</td>\n",
       "      <td>I was here for dinner with my family on a week...</td>\n",
       "    </tr>\n",
       "    <tr>\n",
       "      <th>2</th>\n",
       "      <td>Jalsa</td>\n",
       "      <td>2.0</td>\n",
       "      <td>Its a restaurant near to Banashankari BDA Me a...</td>\n",
       "    </tr>\n",
       "    <tr>\n",
       "      <th>3</th>\n",
       "      <td>Jalsa</td>\n",
       "      <td>4.0</td>\n",
       "      <td>We went here on a weekend and one of us had th...</td>\n",
       "    </tr>\n",
       "    <tr>\n",
       "      <th>4</th>\n",
       "      <td>Jalsa</td>\n",
       "      <td>5.0</td>\n",
       "      <td>The best thing about the place is its ambiance...</td>\n",
       "    </tr>\n",
       "  </tbody>\n",
       "</table>\n",
       "</div>"
      ],
      "text/plain": [
       "    name  rating                                             review\n",
       "0  Jalsa     4.0  A beautiful place to dine inThe interiors take...\n",
       "1  Jalsa     4.0  I was here for dinner with my family on a week...\n",
       "2  Jalsa     2.0  Its a restaurant near to Banashankari BDA Me a...\n",
       "3  Jalsa     4.0  We went here on a weekend and one of us had th...\n",
       "4  Jalsa     5.0  The best thing about the place is its ambiance..."
      ]
     },
     "execution_count": 9,
     "metadata": {},
     "output_type": "execute_result"
    }
   ],
   "source": [
    "ratingDF.head()"
   ]
  },
  {
   "cell_type": "markdown",
   "metadata": {},
   "source": [
    "<b>If the rating of the data is below 2.5, it will be considered negative feedback having (poor) value 1. <br>\n",
    "If the rating of the data is from [2.5,3.5] - Average and value 2 <br>\n",
    "If the rating is from [3.6,5] - Good and value and positive feedback 3 </b>"
   ]
  },
  {
   "cell_type": "code",
   "execution_count": 10,
   "metadata": {},
   "outputs": [
    {
     "data": {
      "text/plain": [
       "4.0    402801\n",
       "5.0    379737\n",
       "3.0    180995\n",
       "1.0    153622\n",
       "2.0     67109\n",
       "3.5     56769\n",
       "4.5     51369\n",
       "2.5     17900\n",
       "1.5      9666\n",
       "Name: rating, dtype: int64"
      ]
     },
     "execution_count": 10,
     "metadata": {},
     "output_type": "execute_result"
    }
   ],
   "source": [
    "ratingDF['rating'].value_counts()"
   ]
  },
  {
   "cell_type": "code",
   "execution_count": 11,
   "metadata": {},
   "outputs": [],
   "source": [
    "ratingDF['sentiment'] = ratingDF['rating'].apply(lambda x: 1 if float(x)<=2.5 else (2 if float(x)<=3.5 else 3))"
   ]
  },
  {
   "cell_type": "code",
   "execution_count": 12,
   "metadata": {},
   "outputs": [
    {
     "data": {
      "text/html": [
       "<div>\n",
       "<style scoped>\n",
       "    .dataframe tbody tr th:only-of-type {\n",
       "        vertical-align: middle;\n",
       "    }\n",
       "\n",
       "    .dataframe tbody tr th {\n",
       "        vertical-align: top;\n",
       "    }\n",
       "\n",
       "    .dataframe thead th {\n",
       "        text-align: right;\n",
       "    }\n",
       "</style>\n",
       "<table border=\"1\" class=\"dataframe\">\n",
       "  <thead>\n",
       "    <tr style=\"text-align: right;\">\n",
       "      <th></th>\n",
       "      <th>name</th>\n",
       "      <th>rating</th>\n",
       "      <th>review</th>\n",
       "      <th>sentiment</th>\n",
       "    </tr>\n",
       "  </thead>\n",
       "  <tbody>\n",
       "    <tr>\n",
       "      <th>0</th>\n",
       "      <td>Jalsa</td>\n",
       "      <td>4.0</td>\n",
       "      <td>A beautiful place to dine inThe interiors take...</td>\n",
       "      <td>3</td>\n",
       "    </tr>\n",
       "    <tr>\n",
       "      <th>1</th>\n",
       "      <td>Jalsa</td>\n",
       "      <td>4.0</td>\n",
       "      <td>I was here for dinner with my family on a week...</td>\n",
       "      <td>3</td>\n",
       "    </tr>\n",
       "    <tr>\n",
       "      <th>2</th>\n",
       "      <td>Jalsa</td>\n",
       "      <td>2.0</td>\n",
       "      <td>Its a restaurant near to Banashankari BDA Me a...</td>\n",
       "      <td>1</td>\n",
       "    </tr>\n",
       "    <tr>\n",
       "      <th>3</th>\n",
       "      <td>Jalsa</td>\n",
       "      <td>4.0</td>\n",
       "      <td>We went here on a weekend and one of us had th...</td>\n",
       "      <td>3</td>\n",
       "    </tr>\n",
       "    <tr>\n",
       "      <th>4</th>\n",
       "      <td>Jalsa</td>\n",
       "      <td>5.0</td>\n",
       "      <td>The best thing about the place is its ambiance...</td>\n",
       "      <td>3</td>\n",
       "    </tr>\n",
       "    <tr>\n",
       "      <th>5</th>\n",
       "      <td>Jalsa</td>\n",
       "      <td>5.0</td>\n",
       "      <td>Great food and pleasant ambience Expensive but...</td>\n",
       "      <td>3</td>\n",
       "    </tr>\n",
       "    <tr>\n",
       "      <th>6</th>\n",
       "      <td>Jalsa</td>\n",
       "      <td>4.0</td>\n",
       "      <td>Good ambience with tasty food\\nCheese chilli p...</td>\n",
       "      <td>3</td>\n",
       "    </tr>\n",
       "    <tr>\n",
       "      <th>7</th>\n",
       "      <td>Jalsa</td>\n",
       "      <td>4.0</td>\n",
       "      <td>You cant go wrong with Jalsa Never been a fan ...</td>\n",
       "      <td>3</td>\n",
       "    </tr>\n",
       "    <tr>\n",
       "      <th>8</th>\n",
       "      <td>Jalsa</td>\n",
       "      <td>5.0</td>\n",
       "      <td>Overdelighted by the service and food provided...</td>\n",
       "      <td>3</td>\n",
       "    </tr>\n",
       "    <tr>\n",
       "      <th>9</th>\n",
       "      <td>Jalsa</td>\n",
       "      <td>4.0</td>\n",
       "      <td>The place is nice and comfortable Food wise al...</td>\n",
       "      <td>3</td>\n",
       "    </tr>\n",
       "    <tr>\n",
       "      <th>10</th>\n",
       "      <td>Jalsa</td>\n",
       "      <td>4.0</td>\n",
       "      <td>The place is nice and comfortable Food wise al...</td>\n",
       "      <td>3</td>\n",
       "    </tr>\n",
       "    <tr>\n",
       "      <th>11</th>\n",
       "      <td>Jalsa</td>\n",
       "      <td>4.0</td>\n",
       "      <td>The place is nice and comfortable Food wise al...</td>\n",
       "      <td>3</td>\n",
       "    </tr>\n",
       "    <tr>\n",
       "      <th>12</th>\n",
       "      <td>Spice Elephant</td>\n",
       "      <td>4.0</td>\n",
       "      <td>Had been here for dinner with family Turned ou...</td>\n",
       "      <td>3</td>\n",
       "    </tr>\n",
       "    <tr>\n",
       "      <th>13</th>\n",
       "      <td>Spice Elephant</td>\n",
       "      <td>3.0</td>\n",
       "      <td>The ambience is really nice staff is courteous...</td>\n",
       "      <td>2</td>\n",
       "    </tr>\n",
       "    <tr>\n",
       "      <th>14</th>\n",
       "      <td>Spice Elephant</td>\n",
       "      <td>3.0</td>\n",
       "      <td>I felt good is little expensive for the quanti...</td>\n",
       "      <td>2</td>\n",
       "    </tr>\n",
       "    <tr>\n",
       "      <th>15</th>\n",
       "      <td>Spice Elephant</td>\n",
       "      <td>4.0</td>\n",
       "      <td>I was looking for a quite place to spend some ...</td>\n",
       "      <td>3</td>\n",
       "    </tr>\n",
       "    <tr>\n",
       "      <th>16</th>\n",
       "      <td>Spice Elephant</td>\n",
       "      <td>4.0</td>\n",
       "      <td>Nice place to dine and has a good ambiance Foo...</td>\n",
       "      <td>3</td>\n",
       "    </tr>\n",
       "    <tr>\n",
       "      <th>17</th>\n",
       "      <td>Spice Elephant</td>\n",
       "      <td>5.0</td>\n",
       "      <td>This place just cool  with good ambience and s...</td>\n",
       "      <td>3</td>\n",
       "    </tr>\n",
       "    <tr>\n",
       "      <th>18</th>\n",
       "      <td>Spice Elephant</td>\n",
       "      <td>4.0</td>\n",
       "      <td>Quiet a good family type of place too calm and...</td>\n",
       "      <td>3</td>\n",
       "    </tr>\n",
       "    <tr>\n",
       "      <th>19</th>\n",
       "      <td>Spice Elephant</td>\n",
       "      <td>2.0</td>\n",
       "      <td>I had a very bad experience here\\nI dont know ...</td>\n",
       "      <td>1</td>\n",
       "    </tr>\n",
       "  </tbody>\n",
       "</table>\n",
       "</div>"
      ],
      "text/plain": [
       "              name  rating                                             review  \\\n",
       "0            Jalsa     4.0  A beautiful place to dine inThe interiors take...   \n",
       "1            Jalsa     4.0  I was here for dinner with my family on a week...   \n",
       "2            Jalsa     2.0  Its a restaurant near to Banashankari BDA Me a...   \n",
       "3            Jalsa     4.0  We went here on a weekend and one of us had th...   \n",
       "4            Jalsa     5.0  The best thing about the place is its ambiance...   \n",
       "5            Jalsa     5.0  Great food and pleasant ambience Expensive but...   \n",
       "6            Jalsa     4.0  Good ambience with tasty food\\nCheese chilli p...   \n",
       "7            Jalsa     4.0  You cant go wrong with Jalsa Never been a fan ...   \n",
       "8            Jalsa     5.0  Overdelighted by the service and food provided...   \n",
       "9            Jalsa     4.0  The place is nice and comfortable Food wise al...   \n",
       "10           Jalsa     4.0  The place is nice and comfortable Food wise al...   \n",
       "11           Jalsa     4.0  The place is nice and comfortable Food wise al...   \n",
       "12  Spice Elephant     4.0  Had been here for dinner with family Turned ou...   \n",
       "13  Spice Elephant     3.0  The ambience is really nice staff is courteous...   \n",
       "14  Spice Elephant     3.0  I felt good is little expensive for the quanti...   \n",
       "15  Spice Elephant     4.0  I was looking for a quite place to spend some ...   \n",
       "16  Spice Elephant     4.0  Nice place to dine and has a good ambiance Foo...   \n",
       "17  Spice Elephant     5.0  This place just cool  with good ambience and s...   \n",
       "18  Spice Elephant     4.0  Quiet a good family type of place too calm and...   \n",
       "19  Spice Elephant     2.0  I had a very bad experience here\\nI dont know ...   \n",
       "\n",
       "    sentiment  \n",
       "0           3  \n",
       "1           3  \n",
       "2           1  \n",
       "3           3  \n",
       "4           3  \n",
       "5           3  \n",
       "6           3  \n",
       "7           3  \n",
       "8           3  \n",
       "9           3  \n",
       "10          3  \n",
       "11          3  \n",
       "12          3  \n",
       "13          2  \n",
       "14          2  \n",
       "15          3  \n",
       "16          3  \n",
       "17          3  \n",
       "18          3  \n",
       "19          1  "
      ]
     },
     "execution_count": 12,
     "metadata": {},
     "output_type": "execute_result"
    }
   ],
   "source": [
    "ratingDF.head(20)"
   ]
  },
  {
   "cell_type": "code",
   "execution_count": 13,
   "metadata": {},
   "outputs": [
    {
     "data": {
      "text/plain": [
       "3    833907\n",
       "1    248297\n",
       "2    237764\n",
       "Name: sentiment, dtype: int64"
      ]
     },
     "execution_count": 13,
     "metadata": {},
     "output_type": "execute_result"
    }
   ],
   "source": [
    "ratingDF['sentiment'].value_counts()"
   ]
  },
  {
   "cell_type": "markdown",
   "metadata": {},
   "source": [
    "### Sentiment Analysis Using VADER"
   ]
  },
  {
   "cell_type": "code",
   "execution_count": 14,
   "metadata": {},
   "outputs": [],
   "source": [
    "from vaderSentiment.vaderSentiment import SentimentIntensityAnalyzer"
   ]
  },
  {
   "cell_type": "code",
   "execution_count": 17,
   "metadata": {},
   "outputs": [],
   "source": [
    "analyzer = SentimentIntensityAnalyzer()"
   ]
  },
  {
   "cell_type": "code",
   "execution_count": 18,
   "metadata": {},
   "outputs": [
    {
     "name": "stdout",
     "output_type": "stream",
     "text": [
      "Total Time(s) taken using VADER :  853.6700959205627\n"
     ]
    }
   ],
   "source": [
    "import time\n",
    "def sentiment_analysis_scores(line):\n",
    "    score = analyzer.polarity_scores(line)\n",
    "    return (score['compound'], score['pos'], score['neu'], score['neg'])\n",
    "start = time.time()\n",
    "VADERSCORES = ratingDF['review'].apply(sentiment_analysis_scores)\n",
    "end = time.time()   \n",
    "print(\"Total Time(s) taken using VADER : \", end-start)"
   ]
  },
  {
   "cell_type": "code",
   "execution_count": 19,
   "metadata": {},
   "outputs": [],
   "source": [
    "VDF = pd.DataFrame(list(VADERSCORES.values),\n",
    "                  columns=['VADER Score (Compound)',\n",
    "                            'VADER Score (Positive)',\n",
    "                            'VADER Score (Neutral)',\n",
    "                            'VADER Score (Negative)'])\n",
    "ratingDF_vader = pd.concat([ratingDF, VDF],axis=1)\n"
   ]
  },
  {
   "cell_type": "code",
   "execution_count": 20,
   "metadata": {},
   "outputs": [
    {
     "data": {
      "text/html": [
       "<div>\n",
       "<style scoped>\n",
       "    .dataframe tbody tr th:only-of-type {\n",
       "        vertical-align: middle;\n",
       "    }\n",
       "\n",
       "    .dataframe tbody tr th {\n",
       "        vertical-align: top;\n",
       "    }\n",
       "\n",
       "    .dataframe thead th {\n",
       "        text-align: right;\n",
       "    }\n",
       "</style>\n",
       "<table border=\"1\" class=\"dataframe\">\n",
       "  <thead>\n",
       "    <tr style=\"text-align: right;\">\n",
       "      <th></th>\n",
       "      <th>name</th>\n",
       "      <th>rating</th>\n",
       "      <th>review</th>\n",
       "      <th>sentiment</th>\n",
       "      <th>VADER Score (Compound)</th>\n",
       "      <th>VADER Score (Positive)</th>\n",
       "      <th>VADER Score (Neutral)</th>\n",
       "      <th>VADER Score (Negative)</th>\n",
       "    </tr>\n",
       "  </thead>\n",
       "  <tbody>\n",
       "    <tr>\n",
       "      <th>0</th>\n",
       "      <td>Jalsa</td>\n",
       "      <td>4.0</td>\n",
       "      <td>A beautiful place to dine inThe interiors take...</td>\n",
       "      <td>3</td>\n",
       "      <td>0.7430</td>\n",
       "      <td>0.139</td>\n",
       "      <td>0.799</td>\n",
       "      <td>0.062</td>\n",
       "    </tr>\n",
       "    <tr>\n",
       "      <th>1</th>\n",
       "      <td>Jalsa</td>\n",
       "      <td>4.0</td>\n",
       "      <td>I was here for dinner with my family on a week...</td>\n",
       "      <td>3</td>\n",
       "      <td>0.9623</td>\n",
       "      <td>0.289</td>\n",
       "      <td>0.684</td>\n",
       "      <td>0.027</td>\n",
       "    </tr>\n",
       "    <tr>\n",
       "      <th>2</th>\n",
       "      <td>Jalsa</td>\n",
       "      <td>2.0</td>\n",
       "      <td>Its a restaurant near to Banashankari BDA Me a...</td>\n",
       "      <td>1</td>\n",
       "      <td>0.7964</td>\n",
       "      <td>0.172</td>\n",
       "      <td>0.781</td>\n",
       "      <td>0.047</td>\n",
       "    </tr>\n",
       "    <tr>\n",
       "      <th>3</th>\n",
       "      <td>Jalsa</td>\n",
       "      <td>4.0</td>\n",
       "      <td>We went here on a weekend and one of us had th...</td>\n",
       "      <td>3</td>\n",
       "      <td>0.9678</td>\n",
       "      <td>0.275</td>\n",
       "      <td>0.725</td>\n",
       "      <td>0.000</td>\n",
       "    </tr>\n",
       "    <tr>\n",
       "      <th>4</th>\n",
       "      <td>Jalsa</td>\n",
       "      <td>5.0</td>\n",
       "      <td>The best thing about the place is its ambiance...</td>\n",
       "      <td>3</td>\n",
       "      <td>0.9702</td>\n",
       "      <td>0.395</td>\n",
       "      <td>0.605</td>\n",
       "      <td>0.000</td>\n",
       "    </tr>\n",
       "    <tr>\n",
       "      <th>5</th>\n",
       "      <td>Jalsa</td>\n",
       "      <td>5.0</td>\n",
       "      <td>Great food and pleasant ambience Expensive but...</td>\n",
       "      <td>3</td>\n",
       "      <td>0.9604</td>\n",
       "      <td>0.423</td>\n",
       "      <td>0.577</td>\n",
       "      <td>0.000</td>\n",
       "    </tr>\n",
       "    <tr>\n",
       "      <th>6</th>\n",
       "      <td>Jalsa</td>\n",
       "      <td>4.0</td>\n",
       "      <td>Good ambience with tasty food\\nCheese chilli p...</td>\n",
       "      <td>3</td>\n",
       "      <td>0.8291</td>\n",
       "      <td>0.192</td>\n",
       "      <td>0.808</td>\n",
       "      <td>0.000</td>\n",
       "    </tr>\n",
       "    <tr>\n",
       "      <th>7</th>\n",
       "      <td>Jalsa</td>\n",
       "      <td>4.0</td>\n",
       "      <td>You cant go wrong with Jalsa Never been a fan ...</td>\n",
       "      <td>3</td>\n",
       "      <td>0.3911</td>\n",
       "      <td>0.116</td>\n",
       "      <td>0.843</td>\n",
       "      <td>0.042</td>\n",
       "    </tr>\n",
       "    <tr>\n",
       "      <th>8</th>\n",
       "      <td>Jalsa</td>\n",
       "      <td>5.0</td>\n",
       "      <td>Overdelighted by the service and food provided...</td>\n",
       "      <td>3</td>\n",
       "      <td>0.8399</td>\n",
       "      <td>0.184</td>\n",
       "      <td>0.816</td>\n",
       "      <td>0.000</td>\n",
       "    </tr>\n",
       "    <tr>\n",
       "      <th>9</th>\n",
       "      <td>Jalsa</td>\n",
       "      <td>4.0</td>\n",
       "      <td>The place is nice and comfortable Food wise al...</td>\n",
       "      <td>3</td>\n",
       "      <td>0.9124</td>\n",
       "      <td>0.215</td>\n",
       "      <td>0.754</td>\n",
       "      <td>0.031</td>\n",
       "    </tr>\n",
       "  </tbody>\n",
       "</table>\n",
       "</div>"
      ],
      "text/plain": [
       "    name  rating                                             review  \\\n",
       "0  Jalsa     4.0  A beautiful place to dine inThe interiors take...   \n",
       "1  Jalsa     4.0  I was here for dinner with my family on a week...   \n",
       "2  Jalsa     2.0  Its a restaurant near to Banashankari BDA Me a...   \n",
       "3  Jalsa     4.0  We went here on a weekend and one of us had th...   \n",
       "4  Jalsa     5.0  The best thing about the place is its ambiance...   \n",
       "5  Jalsa     5.0  Great food and pleasant ambience Expensive but...   \n",
       "6  Jalsa     4.0  Good ambience with tasty food\\nCheese chilli p...   \n",
       "7  Jalsa     4.0  You cant go wrong with Jalsa Never been a fan ...   \n",
       "8  Jalsa     5.0  Overdelighted by the service and food provided...   \n",
       "9  Jalsa     4.0  The place is nice and comfortable Food wise al...   \n",
       "\n",
       "   sentiment  VADER Score (Compound)  VADER Score (Positive)  \\\n",
       "0          3                  0.7430                   0.139   \n",
       "1          3                  0.9623                   0.289   \n",
       "2          1                  0.7964                   0.172   \n",
       "3          3                  0.9678                   0.275   \n",
       "4          3                  0.9702                   0.395   \n",
       "5          3                  0.9604                   0.423   \n",
       "6          3                  0.8291                   0.192   \n",
       "7          3                  0.3911                   0.116   \n",
       "8          3                  0.8399                   0.184   \n",
       "9          3                  0.9124                   0.215   \n",
       "\n",
       "   VADER Score (Neutral)  VADER Score (Negative)  \n",
       "0                  0.799                   0.062  \n",
       "1                  0.684                   0.027  \n",
       "2                  0.781                   0.047  \n",
       "3                  0.725                   0.000  \n",
       "4                  0.605                   0.000  \n",
       "5                  0.577                   0.000  \n",
       "6                  0.808                   0.000  \n",
       "7                  0.843                   0.042  \n",
       "8                  0.816                   0.000  \n",
       "9                  0.754                   0.031  "
      ]
     },
     "execution_count": 20,
     "metadata": {},
     "output_type": "execute_result"
    }
   ],
   "source": [
    "ratingDF_vader.head(10)"
   ]
  },
  {
   "cell_type": "markdown",
   "metadata": {},
   "source": [
    "### Sentiment Analysis Using TextBlob"
   ]
  },
  {
   "cell_type": "code",
   "execution_count": 21,
   "metadata": {},
   "outputs": [],
   "source": [
    "from textblob import TextBlob"
   ]
  },
  {
   "cell_type": "code",
   "execution_count": 22,
   "metadata": {},
   "outputs": [
    {
     "name": "stdout",
     "output_type": "stream",
     "text": [
      "Total Time(s) taken using TEXTBLOB :  561.6311359405518\n"
     ]
    }
   ],
   "source": [
    "start = time.time()\n",
    "TEXTBLOBSCORES = ratingDF['review'].apply(lambda x: TextBlob(x).sentiment.polarity)\n",
    "end = time.time()\n",
    "TDF = pd.DataFrame(list(TEXTBLOBSCORES.values),\n",
    "                  columns=['TEXTBLOB SCORE (Polarity)'])\n",
    "ratingDF_TextBlob = pd.concat([ratingDF, TDF], axis = 1)\n",
    "print(\"Total Time(s) taken using TEXTBLOB : \", end-start)"
   ]
  },
  {
   "cell_type": "code",
   "execution_count": 23,
   "metadata": {},
   "outputs": [
    {
     "data": {
      "text/html": [
       "<div>\n",
       "<style scoped>\n",
       "    .dataframe tbody tr th:only-of-type {\n",
       "        vertical-align: middle;\n",
       "    }\n",
       "\n",
       "    .dataframe tbody tr th {\n",
       "        vertical-align: top;\n",
       "    }\n",
       "\n",
       "    .dataframe thead th {\n",
       "        text-align: right;\n",
       "    }\n",
       "</style>\n",
       "<table border=\"1\" class=\"dataframe\">\n",
       "  <thead>\n",
       "    <tr style=\"text-align: right;\">\n",
       "      <th></th>\n",
       "      <th>name</th>\n",
       "      <th>rating</th>\n",
       "      <th>review</th>\n",
       "      <th>sentiment</th>\n",
       "      <th>TEXTBLOB SCORE (Polarity)</th>\n",
       "    </tr>\n",
       "  </thead>\n",
       "  <tbody>\n",
       "    <tr>\n",
       "      <th>0</th>\n",
       "      <td>Jalsa</td>\n",
       "      <td>4.0</td>\n",
       "      <td>A beautiful place to dine inThe interiors take...</td>\n",
       "      <td>3</td>\n",
       "      <td>0.172321</td>\n",
       "    </tr>\n",
       "    <tr>\n",
       "      <th>1</th>\n",
       "      <td>Jalsa</td>\n",
       "      <td>4.0</td>\n",
       "      <td>I was here for dinner with my family on a week...</td>\n",
       "      <td>3</td>\n",
       "      <td>0.500000</td>\n",
       "    </tr>\n",
       "    <tr>\n",
       "      <th>2</th>\n",
       "      <td>Jalsa</td>\n",
       "      <td>2.0</td>\n",
       "      <td>Its a restaurant near to Banashankari BDA Me a...</td>\n",
       "      <td>1</td>\n",
       "      <td>0.112500</td>\n",
       "    </tr>\n",
       "    <tr>\n",
       "      <th>3</th>\n",
       "      <td>Jalsa</td>\n",
       "      <td>4.0</td>\n",
       "      <td>We went here on a weekend and one of us had th...</td>\n",
       "      <td>3</td>\n",
       "      <td>0.641667</td>\n",
       "    </tr>\n",
       "    <tr>\n",
       "      <th>4</th>\n",
       "      <td>Jalsa</td>\n",
       "      <td>5.0</td>\n",
       "      <td>The best thing about the place is its ambiance...</td>\n",
       "      <td>3</td>\n",
       "      <td>0.485000</td>\n",
       "    </tr>\n",
       "    <tr>\n",
       "      <th>5</th>\n",
       "      <td>Jalsa</td>\n",
       "      <td>5.0</td>\n",
       "      <td>Great food and pleasant ambience Expensive but...</td>\n",
       "      <td>3</td>\n",
       "      <td>0.386389</td>\n",
       "    </tr>\n",
       "    <tr>\n",
       "      <th>6</th>\n",
       "      <td>Jalsa</td>\n",
       "      <td>4.0</td>\n",
       "      <td>Good ambience with tasty food\\nCheese chilli p...</td>\n",
       "      <td>3</td>\n",
       "      <td>0.266667</td>\n",
       "    </tr>\n",
       "    <tr>\n",
       "      <th>7</th>\n",
       "      <td>Jalsa</td>\n",
       "      <td>4.0</td>\n",
       "      <td>You cant go wrong with Jalsa Never been a fan ...</td>\n",
       "      <td>3</td>\n",
       "      <td>-0.100000</td>\n",
       "    </tr>\n",
       "    <tr>\n",
       "      <th>8</th>\n",
       "      <td>Jalsa</td>\n",
       "      <td>5.0</td>\n",
       "      <td>Overdelighted by the service and food provided...</td>\n",
       "      <td>3</td>\n",
       "      <td>0.311111</td>\n",
       "    </tr>\n",
       "    <tr>\n",
       "      <th>9</th>\n",
       "      <td>Jalsa</td>\n",
       "      <td>4.0</td>\n",
       "      <td>The place is nice and comfortable Food wise al...</td>\n",
       "      <td>3</td>\n",
       "      <td>0.282857</td>\n",
       "    </tr>\n",
       "  </tbody>\n",
       "</table>\n",
       "</div>"
      ],
      "text/plain": [
       "    name  rating                                             review  \\\n",
       "0  Jalsa     4.0  A beautiful place to dine inThe interiors take...   \n",
       "1  Jalsa     4.0  I was here for dinner with my family on a week...   \n",
       "2  Jalsa     2.0  Its a restaurant near to Banashankari BDA Me a...   \n",
       "3  Jalsa     4.0  We went here on a weekend and one of us had th...   \n",
       "4  Jalsa     5.0  The best thing about the place is its ambiance...   \n",
       "5  Jalsa     5.0  Great food and pleasant ambience Expensive but...   \n",
       "6  Jalsa     4.0  Good ambience with tasty food\\nCheese chilli p...   \n",
       "7  Jalsa     4.0  You cant go wrong with Jalsa Never been a fan ...   \n",
       "8  Jalsa     5.0  Overdelighted by the service and food provided...   \n",
       "9  Jalsa     4.0  The place is nice and comfortable Food wise al...   \n",
       "\n",
       "   sentiment  TEXTBLOB SCORE (Polarity)  \n",
       "0          3                   0.172321  \n",
       "1          3                   0.500000  \n",
       "2          1                   0.112500  \n",
       "3          3                   0.641667  \n",
       "4          3                   0.485000  \n",
       "5          3                   0.386389  \n",
       "6          3                   0.266667  \n",
       "7          3                  -0.100000  \n",
       "8          3                   0.311111  \n",
       "9          3                   0.282857  "
      ]
     },
     "execution_count": 23,
     "metadata": {},
     "output_type": "execute_result"
    }
   ],
   "source": [
    "ratingDF_TextBlob.head(10)"
   ]
  },
  {
   "cell_type": "code",
   "execution_count": 24,
   "metadata": {},
   "outputs": [
    {
     "data": {
      "text/html": [
       "<div>\n",
       "<style scoped>\n",
       "    .dataframe tbody tr th:only-of-type {\n",
       "        vertical-align: middle;\n",
       "    }\n",
       "\n",
       "    .dataframe tbody tr th {\n",
       "        vertical-align: top;\n",
       "    }\n",
       "\n",
       "    .dataframe thead th {\n",
       "        text-align: right;\n",
       "    }\n",
       "</style>\n",
       "<table border=\"1\" class=\"dataframe\">\n",
       "  <thead>\n",
       "    <tr style=\"text-align: right;\">\n",
       "      <th></th>\n",
       "      <th>name</th>\n",
       "      <th>rating</th>\n",
       "      <th>review</th>\n",
       "      <th>sentiment</th>\n",
       "      <th>VADER Score (Compound)</th>\n",
       "      <th>VADER Score (Positive)</th>\n",
       "      <th>VADER Score (Neutral)</th>\n",
       "      <th>VADER Score (Negative)</th>\n",
       "    </tr>\n",
       "  </thead>\n",
       "  <tbody>\n",
       "    <tr>\n",
       "      <th>0</th>\n",
       "      <td>Jalsa</td>\n",
       "      <td>4.0</td>\n",
       "      <td>A beautiful place to dine inThe interiors take...</td>\n",
       "      <td>3</td>\n",
       "      <td>0.7430</td>\n",
       "      <td>0.139</td>\n",
       "      <td>0.799</td>\n",
       "      <td>0.062</td>\n",
       "    </tr>\n",
       "    <tr>\n",
       "      <th>1</th>\n",
       "      <td>Jalsa</td>\n",
       "      <td>4.0</td>\n",
       "      <td>I was here for dinner with my family on a week...</td>\n",
       "      <td>3</td>\n",
       "      <td>0.9623</td>\n",
       "      <td>0.289</td>\n",
       "      <td>0.684</td>\n",
       "      <td>0.027</td>\n",
       "    </tr>\n",
       "    <tr>\n",
       "      <th>2</th>\n",
       "      <td>Jalsa</td>\n",
       "      <td>2.0</td>\n",
       "      <td>Its a restaurant near to Banashankari BDA Me a...</td>\n",
       "      <td>1</td>\n",
       "      <td>0.7964</td>\n",
       "      <td>0.172</td>\n",
       "      <td>0.781</td>\n",
       "      <td>0.047</td>\n",
       "    </tr>\n",
       "    <tr>\n",
       "      <th>3</th>\n",
       "      <td>Jalsa</td>\n",
       "      <td>4.0</td>\n",
       "      <td>We went here on a weekend and one of us had th...</td>\n",
       "      <td>3</td>\n",
       "      <td>0.9678</td>\n",
       "      <td>0.275</td>\n",
       "      <td>0.725</td>\n",
       "      <td>0.000</td>\n",
       "    </tr>\n",
       "    <tr>\n",
       "      <th>4</th>\n",
       "      <td>Jalsa</td>\n",
       "      <td>5.0</td>\n",
       "      <td>The best thing about the place is its ambiance...</td>\n",
       "      <td>3</td>\n",
       "      <td>0.9702</td>\n",
       "      <td>0.395</td>\n",
       "      <td>0.605</td>\n",
       "      <td>0.000</td>\n",
       "    </tr>\n",
       "    <tr>\n",
       "      <th>5</th>\n",
       "      <td>Jalsa</td>\n",
       "      <td>5.0</td>\n",
       "      <td>Great food and pleasant ambience Expensive but...</td>\n",
       "      <td>3</td>\n",
       "      <td>0.9604</td>\n",
       "      <td>0.423</td>\n",
       "      <td>0.577</td>\n",
       "      <td>0.000</td>\n",
       "    </tr>\n",
       "    <tr>\n",
       "      <th>6</th>\n",
       "      <td>Jalsa</td>\n",
       "      <td>4.0</td>\n",
       "      <td>Good ambience with tasty food\\nCheese chilli p...</td>\n",
       "      <td>3</td>\n",
       "      <td>0.8291</td>\n",
       "      <td>0.192</td>\n",
       "      <td>0.808</td>\n",
       "      <td>0.000</td>\n",
       "    </tr>\n",
       "    <tr>\n",
       "      <th>7</th>\n",
       "      <td>Jalsa</td>\n",
       "      <td>4.0</td>\n",
       "      <td>You cant go wrong with Jalsa Never been a fan ...</td>\n",
       "      <td>3</td>\n",
       "      <td>0.3911</td>\n",
       "      <td>0.116</td>\n",
       "      <td>0.843</td>\n",
       "      <td>0.042</td>\n",
       "    </tr>\n",
       "    <tr>\n",
       "      <th>8</th>\n",
       "      <td>Jalsa</td>\n",
       "      <td>5.0</td>\n",
       "      <td>Overdelighted by the service and food provided...</td>\n",
       "      <td>3</td>\n",
       "      <td>0.8399</td>\n",
       "      <td>0.184</td>\n",
       "      <td>0.816</td>\n",
       "      <td>0.000</td>\n",
       "    </tr>\n",
       "    <tr>\n",
       "      <th>9</th>\n",
       "      <td>Jalsa</td>\n",
       "      <td>4.0</td>\n",
       "      <td>The place is nice and comfortable Food wise al...</td>\n",
       "      <td>3</td>\n",
       "      <td>0.9124</td>\n",
       "      <td>0.215</td>\n",
       "      <td>0.754</td>\n",
       "      <td>0.031</td>\n",
       "    </tr>\n",
       "  </tbody>\n",
       "</table>\n",
       "</div>"
      ],
      "text/plain": [
       "    name  rating                                             review  \\\n",
       "0  Jalsa     4.0  A beautiful place to dine inThe interiors take...   \n",
       "1  Jalsa     4.0  I was here for dinner with my family on a week...   \n",
       "2  Jalsa     2.0  Its a restaurant near to Banashankari BDA Me a...   \n",
       "3  Jalsa     4.0  We went here on a weekend and one of us had th...   \n",
       "4  Jalsa     5.0  The best thing about the place is its ambiance...   \n",
       "5  Jalsa     5.0  Great food and pleasant ambience Expensive but...   \n",
       "6  Jalsa     4.0  Good ambience with tasty food\\nCheese chilli p...   \n",
       "7  Jalsa     4.0  You cant go wrong with Jalsa Never been a fan ...   \n",
       "8  Jalsa     5.0  Overdelighted by the service and food provided...   \n",
       "9  Jalsa     4.0  The place is nice and comfortable Food wise al...   \n",
       "\n",
       "   sentiment  VADER Score (Compound)  VADER Score (Positive)  \\\n",
       "0          3                  0.7430                   0.139   \n",
       "1          3                  0.9623                   0.289   \n",
       "2          1                  0.7964                   0.172   \n",
       "3          3                  0.9678                   0.275   \n",
       "4          3                  0.9702                   0.395   \n",
       "5          3                  0.9604                   0.423   \n",
       "6          3                  0.8291                   0.192   \n",
       "7          3                  0.3911                   0.116   \n",
       "8          3                  0.8399                   0.184   \n",
       "9          3                  0.9124                   0.215   \n",
       "\n",
       "   VADER Score (Neutral)  VADER Score (Negative)  \n",
       "0                  0.799                   0.062  \n",
       "1                  0.684                   0.027  \n",
       "2                  0.781                   0.047  \n",
       "3                  0.725                   0.000  \n",
       "4                  0.605                   0.000  \n",
       "5                  0.577                   0.000  \n",
       "6                  0.808                   0.000  \n",
       "7                  0.843                   0.042  \n",
       "8                  0.816                   0.000  \n",
       "9                  0.754                   0.031  "
      ]
     },
     "execution_count": 24,
     "metadata": {},
     "output_type": "execute_result"
    }
   ],
   "source": [
    "ratingDF_vader.head(10)"
   ]
  },
  {
   "cell_type": "markdown",
   "metadata": {},
   "source": [
    "### Associating Vader Score with a Sentiment"
   ]
  },
  {
   "cell_type": "code",
   "execution_count": 25,
   "metadata": {},
   "outputs": [],
   "source": [
    "def sentiment(score,threshold): #threshold according to VADER documentation = 0.05 #score is compound score\n",
    "    if(score>=threshold):\n",
    "        return 3\n",
    "    elif(score>-threshold and score<threshold):\n",
    "        return 2\n",
    "    elif(score<=threshold):\n",
    "        return 1"
   ]
  },
  {
   "cell_type": "code",
   "execution_count": 26,
   "metadata": {},
   "outputs": [],
   "source": [
    "VADER_sent = ratingDF_vader['VADER Score (Compound)'].apply(lambda x : sentiment(x,0.1))"
   ]
  },
  {
   "cell_type": "code",
   "execution_count": 27,
   "metadata": {},
   "outputs": [],
   "source": [
    "VS = pd.DataFrame(list(VADER_sent.values),\n",
    "                  columns=['Sentiment_Final'])"
   ]
  },
  {
   "cell_type": "code",
   "execution_count": 28,
   "metadata": {},
   "outputs": [
    {
     "data": {
      "text/html": [
       "<div>\n",
       "<style scoped>\n",
       "    .dataframe tbody tr th:only-of-type {\n",
       "        vertical-align: middle;\n",
       "    }\n",
       "\n",
       "    .dataframe tbody tr th {\n",
       "        vertical-align: top;\n",
       "    }\n",
       "\n",
       "    .dataframe thead th {\n",
       "        text-align: right;\n",
       "    }\n",
       "</style>\n",
       "<table border=\"1\" class=\"dataframe\">\n",
       "  <thead>\n",
       "    <tr style=\"text-align: right;\">\n",
       "      <th></th>\n",
       "      <th>Sentiment_Final</th>\n",
       "    </tr>\n",
       "  </thead>\n",
       "  <tbody>\n",
       "    <tr>\n",
       "      <th>0</th>\n",
       "      <td>3</td>\n",
       "    </tr>\n",
       "    <tr>\n",
       "      <th>1</th>\n",
       "      <td>3</td>\n",
       "    </tr>\n",
       "    <tr>\n",
       "      <th>2</th>\n",
       "      <td>3</td>\n",
       "    </tr>\n",
       "    <tr>\n",
       "      <th>3</th>\n",
       "      <td>3</td>\n",
       "    </tr>\n",
       "    <tr>\n",
       "      <th>4</th>\n",
       "      <td>3</td>\n",
       "    </tr>\n",
       "  </tbody>\n",
       "</table>\n",
       "</div>"
      ],
      "text/plain": [
       "   Sentiment_Final\n",
       "0                3\n",
       "1                3\n",
       "2                3\n",
       "3                3\n",
       "4                3"
      ]
     },
     "execution_count": 28,
     "metadata": {},
     "output_type": "execute_result"
    }
   ],
   "source": [
    "VS.head()"
   ]
  },
  {
   "cell_type": "code",
   "execution_count": 29,
   "metadata": {},
   "outputs": [],
   "source": [
    "ratingDF_vader = pd.concat([ratingDF_vader,VS],axis = 1)"
   ]
  },
  {
   "cell_type": "code",
   "execution_count": 30,
   "metadata": {},
   "outputs": [
    {
     "data": {
      "text/html": [
       "<div>\n",
       "<style scoped>\n",
       "    .dataframe tbody tr th:only-of-type {\n",
       "        vertical-align: middle;\n",
       "    }\n",
       "\n",
       "    .dataframe tbody tr th {\n",
       "        vertical-align: top;\n",
       "    }\n",
       "\n",
       "    .dataframe thead th {\n",
       "        text-align: right;\n",
       "    }\n",
       "</style>\n",
       "<table border=\"1\" class=\"dataframe\">\n",
       "  <thead>\n",
       "    <tr style=\"text-align: right;\">\n",
       "      <th></th>\n",
       "      <th>name</th>\n",
       "      <th>rating</th>\n",
       "      <th>review</th>\n",
       "      <th>sentiment</th>\n",
       "      <th>VADER Score (Compound)</th>\n",
       "      <th>VADER Score (Positive)</th>\n",
       "      <th>VADER Score (Neutral)</th>\n",
       "      <th>VADER Score (Negative)</th>\n",
       "      <th>Sentiment_Final</th>\n",
       "    </tr>\n",
       "  </thead>\n",
       "  <tbody>\n",
       "    <tr>\n",
       "      <th>0</th>\n",
       "      <td>Jalsa</td>\n",
       "      <td>4.0</td>\n",
       "      <td>A beautiful place to dine inThe interiors take...</td>\n",
       "      <td>3</td>\n",
       "      <td>0.7430</td>\n",
       "      <td>0.139</td>\n",
       "      <td>0.799</td>\n",
       "      <td>0.062</td>\n",
       "      <td>3</td>\n",
       "    </tr>\n",
       "    <tr>\n",
       "      <th>1</th>\n",
       "      <td>Jalsa</td>\n",
       "      <td>4.0</td>\n",
       "      <td>I was here for dinner with my family on a week...</td>\n",
       "      <td>3</td>\n",
       "      <td>0.9623</td>\n",
       "      <td>0.289</td>\n",
       "      <td>0.684</td>\n",
       "      <td>0.027</td>\n",
       "      <td>3</td>\n",
       "    </tr>\n",
       "    <tr>\n",
       "      <th>2</th>\n",
       "      <td>Jalsa</td>\n",
       "      <td>2.0</td>\n",
       "      <td>Its a restaurant near to Banashankari BDA Me a...</td>\n",
       "      <td>1</td>\n",
       "      <td>0.7964</td>\n",
       "      <td>0.172</td>\n",
       "      <td>0.781</td>\n",
       "      <td>0.047</td>\n",
       "      <td>3</td>\n",
       "    </tr>\n",
       "    <tr>\n",
       "      <th>3</th>\n",
       "      <td>Jalsa</td>\n",
       "      <td>4.0</td>\n",
       "      <td>We went here on a weekend and one of us had th...</td>\n",
       "      <td>3</td>\n",
       "      <td>0.9678</td>\n",
       "      <td>0.275</td>\n",
       "      <td>0.725</td>\n",
       "      <td>0.000</td>\n",
       "      <td>3</td>\n",
       "    </tr>\n",
       "    <tr>\n",
       "      <th>4</th>\n",
       "      <td>Jalsa</td>\n",
       "      <td>5.0</td>\n",
       "      <td>The best thing about the place is its ambiance...</td>\n",
       "      <td>3</td>\n",
       "      <td>0.9702</td>\n",
       "      <td>0.395</td>\n",
       "      <td>0.605</td>\n",
       "      <td>0.000</td>\n",
       "      <td>3</td>\n",
       "    </tr>\n",
       "  </tbody>\n",
       "</table>\n",
       "</div>"
      ],
      "text/plain": [
       "    name  rating                                             review  \\\n",
       "0  Jalsa     4.0  A beautiful place to dine inThe interiors take...   \n",
       "1  Jalsa     4.0  I was here for dinner with my family on a week...   \n",
       "2  Jalsa     2.0  Its a restaurant near to Banashankari BDA Me a...   \n",
       "3  Jalsa     4.0  We went here on a weekend and one of us had th...   \n",
       "4  Jalsa     5.0  The best thing about the place is its ambiance...   \n",
       "\n",
       "   sentiment  VADER Score (Compound)  VADER Score (Positive)  \\\n",
       "0          3                  0.7430                   0.139   \n",
       "1          3                  0.9623                   0.289   \n",
       "2          1                  0.7964                   0.172   \n",
       "3          3                  0.9678                   0.275   \n",
       "4          3                  0.9702                   0.395   \n",
       "\n",
       "   VADER Score (Neutral)  VADER Score (Negative)  Sentiment_Final  \n",
       "0                  0.799                   0.062                3  \n",
       "1                  0.684                   0.027                3  \n",
       "2                  0.781                   0.047                3  \n",
       "3                  0.725                   0.000                3  \n",
       "4                  0.605                   0.000                3  "
      ]
     },
     "execution_count": 30,
     "metadata": {},
     "output_type": "execute_result"
    }
   ],
   "source": [
    "ratingDF_vader.head()"
   ]
  },
  {
   "cell_type": "code",
   "execution_count": 31,
   "metadata": {},
   "outputs": [
    {
     "data": {
      "text/plain": [
       "3    1050685\n",
       "1     184639\n",
       "2      84644\n",
       "Name: Sentiment_Final, dtype: int64"
      ]
     },
     "execution_count": 31,
     "metadata": {},
     "output_type": "execute_result"
    }
   ],
   "source": [
    "VS['Sentiment_Final'].value_counts()"
   ]
  },
  {
   "cell_type": "code",
   "execution_count": 32,
   "metadata": {},
   "outputs": [
    {
     "data": {
      "text/plain": [
       "3    833907\n",
       "1    248297\n",
       "2    237764\n",
       "Name: sentiment, dtype: int64"
      ]
     },
     "execution_count": 32,
     "metadata": {},
     "output_type": "execute_result"
    }
   ],
   "source": [
    "ratingDF_vader['sentiment'].value_counts()\n"
   ]
  },
  {
   "cell_type": "markdown",
   "metadata": {},
   "source": [
    "### Performance Evaluation of VADER"
   ]
  },
  {
   "cell_type": "code",
   "execution_count": 33,
   "metadata": {},
   "outputs": [],
   "source": [
    "original = dict(ratingDF_vader['sentiment'].value_counts())\n",
    "model = dict(VS['Sentiment_Final'].value_counts())"
   ]
  },
  {
   "cell_type": "code",
   "execution_count": 34,
   "metadata": {},
   "outputs": [
    {
     "name": "stdout",
     "output_type": "stream",
     "text": [
      "{3: 833907, 1: 248297, 2: 237764}\n",
      "{3: 1050685, 1: 184639, 2: 84644}\n"
     ]
    }
   ],
   "source": [
    "print(original)\n",
    "print(model)"
   ]
  },
  {
   "cell_type": "code",
   "execution_count": 37,
   "metadata": {},
   "outputs": [
    {
     "name": "stdout",
     "output_type": "stream",
     "text": [
      "Positive Reviews Accuracy : 74.00453527791468%\n",
      "Negative Reviews Accuracy : 34.089819852837536%\n",
      "Neutral Reviews Accuracy : 77.65641560539022%\n"
     ]
    }
   ],
   "source": [
    "print(\"Positive Reviews Accuracy : {}%\".format(100-(abs(original[3]-model[3]))*100/(original[3])))\n",
    "print(\"Negative Reviews Accuracy : {}%\".format(100-(abs(original[1]-model[2]))*100/(original[1])))\n",
    "print(\"Neutral Reviews Accuracy : {}%\".format(100-(abs(original[2]-model[1]))*100/(original[2])))"
   ]
  },
  {
   "cell_type": "markdown",
   "metadata": {},
   "source": [
    "### Assigning TextBlob Score with a Sentiment "
   ]
  },
  {
   "cell_type": "code",
   "execution_count": 38,
   "metadata": {},
   "outputs": [
    {
     "data": {
      "text/html": [
       "<div>\n",
       "<style scoped>\n",
       "    .dataframe tbody tr th:only-of-type {\n",
       "        vertical-align: middle;\n",
       "    }\n",
       "\n",
       "    .dataframe tbody tr th {\n",
       "        vertical-align: top;\n",
       "    }\n",
       "\n",
       "    .dataframe thead th {\n",
       "        text-align: right;\n",
       "    }\n",
       "</style>\n",
       "<table border=\"1\" class=\"dataframe\">\n",
       "  <thead>\n",
       "    <tr style=\"text-align: right;\">\n",
       "      <th></th>\n",
       "      <th>name</th>\n",
       "      <th>rating</th>\n",
       "      <th>review</th>\n",
       "      <th>sentiment</th>\n",
       "      <th>TEXTBLOB SCORE (Polarity)</th>\n",
       "    </tr>\n",
       "  </thead>\n",
       "  <tbody>\n",
       "    <tr>\n",
       "      <th>0</th>\n",
       "      <td>Jalsa</td>\n",
       "      <td>4.0</td>\n",
       "      <td>A beautiful place to dine inThe interiors take...</td>\n",
       "      <td>3</td>\n",
       "      <td>0.172321</td>\n",
       "    </tr>\n",
       "    <tr>\n",
       "      <th>1</th>\n",
       "      <td>Jalsa</td>\n",
       "      <td>4.0</td>\n",
       "      <td>I was here for dinner with my family on a week...</td>\n",
       "      <td>3</td>\n",
       "      <td>0.500000</td>\n",
       "    </tr>\n",
       "    <tr>\n",
       "      <th>2</th>\n",
       "      <td>Jalsa</td>\n",
       "      <td>2.0</td>\n",
       "      <td>Its a restaurant near to Banashankari BDA Me a...</td>\n",
       "      <td>1</td>\n",
       "      <td>0.112500</td>\n",
       "    </tr>\n",
       "    <tr>\n",
       "      <th>3</th>\n",
       "      <td>Jalsa</td>\n",
       "      <td>4.0</td>\n",
       "      <td>We went here on a weekend and one of us had th...</td>\n",
       "      <td>3</td>\n",
       "      <td>0.641667</td>\n",
       "    </tr>\n",
       "    <tr>\n",
       "      <th>4</th>\n",
       "      <td>Jalsa</td>\n",
       "      <td>5.0</td>\n",
       "      <td>The best thing about the place is its ambiance...</td>\n",
       "      <td>3</td>\n",
       "      <td>0.485000</td>\n",
       "    </tr>\n",
       "    <tr>\n",
       "      <th>5</th>\n",
       "      <td>Jalsa</td>\n",
       "      <td>5.0</td>\n",
       "      <td>Great food and pleasant ambience Expensive but...</td>\n",
       "      <td>3</td>\n",
       "      <td>0.386389</td>\n",
       "    </tr>\n",
       "    <tr>\n",
       "      <th>6</th>\n",
       "      <td>Jalsa</td>\n",
       "      <td>4.0</td>\n",
       "      <td>Good ambience with tasty food\\nCheese chilli p...</td>\n",
       "      <td>3</td>\n",
       "      <td>0.266667</td>\n",
       "    </tr>\n",
       "    <tr>\n",
       "      <th>7</th>\n",
       "      <td>Jalsa</td>\n",
       "      <td>4.0</td>\n",
       "      <td>You cant go wrong with Jalsa Never been a fan ...</td>\n",
       "      <td>3</td>\n",
       "      <td>-0.100000</td>\n",
       "    </tr>\n",
       "    <tr>\n",
       "      <th>8</th>\n",
       "      <td>Jalsa</td>\n",
       "      <td>5.0</td>\n",
       "      <td>Overdelighted by the service and food provided...</td>\n",
       "      <td>3</td>\n",
       "      <td>0.311111</td>\n",
       "    </tr>\n",
       "    <tr>\n",
       "      <th>9</th>\n",
       "      <td>Jalsa</td>\n",
       "      <td>4.0</td>\n",
       "      <td>The place is nice and comfortable Food wise al...</td>\n",
       "      <td>3</td>\n",
       "      <td>0.282857</td>\n",
       "    </tr>\n",
       "  </tbody>\n",
       "</table>\n",
       "</div>"
      ],
      "text/plain": [
       "    name  rating                                             review  \\\n",
       "0  Jalsa     4.0  A beautiful place to dine inThe interiors take...   \n",
       "1  Jalsa     4.0  I was here for dinner with my family on a week...   \n",
       "2  Jalsa     2.0  Its a restaurant near to Banashankari BDA Me a...   \n",
       "3  Jalsa     4.0  We went here on a weekend and one of us had th...   \n",
       "4  Jalsa     5.0  The best thing about the place is its ambiance...   \n",
       "5  Jalsa     5.0  Great food and pleasant ambience Expensive but...   \n",
       "6  Jalsa     4.0  Good ambience with tasty food\\nCheese chilli p...   \n",
       "7  Jalsa     4.0  You cant go wrong with Jalsa Never been a fan ...   \n",
       "8  Jalsa     5.0  Overdelighted by the service and food provided...   \n",
       "9  Jalsa     4.0  The place is nice and comfortable Food wise al...   \n",
       "\n",
       "   sentiment  TEXTBLOB SCORE (Polarity)  \n",
       "0          3                   0.172321  \n",
       "1          3                   0.500000  \n",
       "2          1                   0.112500  \n",
       "3          3                   0.641667  \n",
       "4          3                   0.485000  \n",
       "5          3                   0.386389  \n",
       "6          3                   0.266667  \n",
       "7          3                  -0.100000  \n",
       "8          3                   0.311111  \n",
       "9          3                   0.282857  "
      ]
     },
     "execution_count": 38,
     "metadata": {},
     "output_type": "execute_result"
    }
   ],
   "source": [
    "ratingDF_TextBlob.head(10)\n"
   ]
  },
  {
   "cell_type": "code",
   "execution_count": 39,
   "metadata": {},
   "outputs": [],
   "source": [
    "def Sentimentblob(score,threshold):\n",
    "    if(score>=threshold):\n",
    "        return 3\n",
    "    elif(score>-threshold and score<threshold):\n",
    "        return 2\n",
    "    elif(score<=-threshold):\n",
    "        return 1"
   ]
  },
  {
   "cell_type": "code",
   "execution_count": 40,
   "metadata": {},
   "outputs": [],
   "source": [
    "TextBlob_sent = ratingDF_TextBlob['TEXTBLOB SCORE (Polarity)'].apply(lambda x : Sentimentblob(x,0.1))"
   ]
  },
  {
   "cell_type": "code",
   "execution_count": 41,
   "metadata": {},
   "outputs": [],
   "source": [
    "BS = pd.DataFrame(list(TextBlob_sent.values),\n",
    "                  columns=['Sentiment_Final Blob'])\n"
   ]
  },
  {
   "cell_type": "code",
   "execution_count": 42,
   "metadata": {},
   "outputs": [],
   "source": [
    "ratingDF_TextBlob = pd.concat([ratingDF_TextBlob,BS], axis=1)"
   ]
  },
  {
   "cell_type": "code",
   "execution_count": 43,
   "metadata": {},
   "outputs": [
    {
     "data": {
      "text/html": [
       "<div>\n",
       "<style scoped>\n",
       "    .dataframe tbody tr th:only-of-type {\n",
       "        vertical-align: middle;\n",
       "    }\n",
       "\n",
       "    .dataframe tbody tr th {\n",
       "        vertical-align: top;\n",
       "    }\n",
       "\n",
       "    .dataframe thead th {\n",
       "        text-align: right;\n",
       "    }\n",
       "</style>\n",
       "<table border=\"1\" class=\"dataframe\">\n",
       "  <thead>\n",
       "    <tr style=\"text-align: right;\">\n",
       "      <th></th>\n",
       "      <th>name</th>\n",
       "      <th>rating</th>\n",
       "      <th>review</th>\n",
       "      <th>sentiment</th>\n",
       "      <th>TEXTBLOB SCORE (Polarity)</th>\n",
       "      <th>Sentiment_Final Blob</th>\n",
       "    </tr>\n",
       "  </thead>\n",
       "  <tbody>\n",
       "    <tr>\n",
       "      <th>0</th>\n",
       "      <td>Jalsa</td>\n",
       "      <td>4.0</td>\n",
       "      <td>A beautiful place to dine inThe interiors take...</td>\n",
       "      <td>3</td>\n",
       "      <td>0.172321</td>\n",
       "      <td>3</td>\n",
       "    </tr>\n",
       "    <tr>\n",
       "      <th>1</th>\n",
       "      <td>Jalsa</td>\n",
       "      <td>4.0</td>\n",
       "      <td>I was here for dinner with my family on a week...</td>\n",
       "      <td>3</td>\n",
       "      <td>0.500000</td>\n",
       "      <td>3</td>\n",
       "    </tr>\n",
       "    <tr>\n",
       "      <th>2</th>\n",
       "      <td>Jalsa</td>\n",
       "      <td>2.0</td>\n",
       "      <td>Its a restaurant near to Banashankari BDA Me a...</td>\n",
       "      <td>1</td>\n",
       "      <td>0.112500</td>\n",
       "      <td>3</td>\n",
       "    </tr>\n",
       "    <tr>\n",
       "      <th>3</th>\n",
       "      <td>Jalsa</td>\n",
       "      <td>4.0</td>\n",
       "      <td>We went here on a weekend and one of us had th...</td>\n",
       "      <td>3</td>\n",
       "      <td>0.641667</td>\n",
       "      <td>3</td>\n",
       "    </tr>\n",
       "    <tr>\n",
       "      <th>4</th>\n",
       "      <td>Jalsa</td>\n",
       "      <td>5.0</td>\n",
       "      <td>The best thing about the place is its ambiance...</td>\n",
       "      <td>3</td>\n",
       "      <td>0.485000</td>\n",
       "      <td>3</td>\n",
       "    </tr>\n",
       "  </tbody>\n",
       "</table>\n",
       "</div>"
      ],
      "text/plain": [
       "    name  rating                                             review  \\\n",
       "0  Jalsa     4.0  A beautiful place to dine inThe interiors take...   \n",
       "1  Jalsa     4.0  I was here for dinner with my family on a week...   \n",
       "2  Jalsa     2.0  Its a restaurant near to Banashankari BDA Me a...   \n",
       "3  Jalsa     4.0  We went here on a weekend and one of us had th...   \n",
       "4  Jalsa     5.0  The best thing about the place is its ambiance...   \n",
       "\n",
       "   sentiment  TEXTBLOB SCORE (Polarity)  Sentiment_Final Blob  \n",
       "0          3                   0.172321                     3  \n",
       "1          3                   0.500000                     3  \n",
       "2          1                   0.112500                     3  \n",
       "3          3                   0.641667                     3  \n",
       "4          3                   0.485000                     3  "
      ]
     },
     "execution_count": 43,
     "metadata": {},
     "output_type": "execute_result"
    }
   ],
   "source": [
    "ratingDF_TextBlob.head()"
   ]
  },
  {
   "cell_type": "code",
   "execution_count": 44,
   "metadata": {},
   "outputs": [
    {
     "data": {
      "text/plain": [
       "3    833907\n",
       "1    248297\n",
       "2    237764\n",
       "Name: sentiment, dtype: int64"
      ]
     },
     "execution_count": 44,
     "metadata": {},
     "output_type": "execute_result"
    }
   ],
   "source": [
    "ratingDF_TextBlob['sentiment'].value_counts()"
   ]
  },
  {
   "cell_type": "code",
   "execution_count": 45,
   "metadata": {},
   "outputs": [
    {
     "data": {
      "text/plain": [
       "0          3\n",
       "1          3\n",
       "2          3\n",
       "3          3\n",
       "4          3\n",
       "          ..\n",
       "1319963    3\n",
       "1319964    3\n",
       "1319965    3\n",
       "1319966    3\n",
       "1319967    3\n",
       "Name: Sentiment_Final Blob, Length: 1319968, dtype: int64"
      ]
     },
     "execution_count": 45,
     "metadata": {},
     "output_type": "execute_result"
    }
   ],
   "source": [
    "ratingDF_TextBlob['Sentiment_Final Blob']"
   ]
  },
  {
   "cell_type": "markdown",
   "metadata": {},
   "source": [
    "### Performance Evaluation of TEXTBLOB"
   ]
  },
  {
   "cell_type": "code",
   "execution_count": 46,
   "metadata": {},
   "outputs": [
    {
     "name": "stdout",
     "output_type": "stream",
     "text": [
      "{3: 833907, 1: 248297, 2: 237764}\n",
      "{3: 960141, 2: 204381, 1: 155446}\n"
     ]
    }
   ],
   "source": [
    "original = dict(ratingDF_TextBlob['sentiment'].value_counts())\n",
    "model = dict(ratingDF_TextBlob['Sentiment_Final Blob'].value_counts())\n",
    "print(original)\n",
    "print(model)"
   ]
  },
  {
   "cell_type": "code",
   "execution_count": 47,
   "metadata": {},
   "outputs": [
    {
     "name": "stdout",
     "output_type": "stream",
     "text": [
      "Positive Reviews Accuracy : 84.86234076461764%\n",
      "Negative Reviews Accuracy : 82.31311695268167%\n",
      "Neutral Reviews Accuracy : 65.37827425514377%\n"
     ]
    }
   ],
   "source": [
    "print(\"Positive Reviews Accuracy : {}%\".format(100-(abs(original[3]-model[3]))*100/(original[3])))\n",
    "print(\"Negative Reviews Accuracy : {}%\".format(100-(abs(original[1]-model[2]))*100/(original[1])))\n",
    "print(\"Neutral Reviews Accuracy : {}%\".format(100-(abs(original[2]-model[1]))*100/(original[2])))"
   ]
  },
  {
   "cell_type": "markdown",
   "metadata": {},
   "source": [
    "<b>The performnace using wither TextBlob or VADER sentiment library depends heavily on the hyperparameter 'threshold',<br>\n",
    "Which is a user defined boundary to classify a review as either positve, negative or neutral.<br></b>\n",
    "\n",
    "<b>It is observed that generalization of one the category, though significantly improves <br>\n",
    "its classifying accuracy but negatively impacts atleast one other sentiment category.</b>"
   ]
  },
  {
   "cell_type": "code",
   "execution_count": 65,
   "metadata": {},
   "outputs": [],
   "source": [
    "from sklearn.metrics import confusion_matrix\n",
    "import seaborn as sns\n",
    "import matplotlib.pyplot as plt"
   ]
  },
  {
   "cell_type": "code",
   "execution_count": 51,
   "metadata": {},
   "outputs": [
    {
     "data": {
      "text/html": [
       "<div>\n",
       "<style scoped>\n",
       "    .dataframe tbody tr th:only-of-type {\n",
       "        vertical-align: middle;\n",
       "    }\n",
       "\n",
       "    .dataframe tbody tr th {\n",
       "        vertical-align: top;\n",
       "    }\n",
       "\n",
       "    .dataframe thead th {\n",
       "        text-align: right;\n",
       "    }\n",
       "</style>\n",
       "<table border=\"1\" class=\"dataframe\">\n",
       "  <thead>\n",
       "    <tr style=\"text-align: right;\">\n",
       "      <th></th>\n",
       "      <th>name</th>\n",
       "      <th>rating</th>\n",
       "      <th>review</th>\n",
       "      <th>sentiment</th>\n",
       "      <th>VADER Score (Compound)</th>\n",
       "      <th>VADER Score (Positive)</th>\n",
       "      <th>VADER Score (Neutral)</th>\n",
       "      <th>VADER Score (Negative)</th>\n",
       "      <th>Sentiment_Final</th>\n",
       "    </tr>\n",
       "  </thead>\n",
       "  <tbody>\n",
       "    <tr>\n",
       "      <th>0</th>\n",
       "      <td>Jalsa</td>\n",
       "      <td>4.0</td>\n",
       "      <td>A beautiful place to dine inThe interiors take...</td>\n",
       "      <td>3</td>\n",
       "      <td>0.7430</td>\n",
       "      <td>0.139</td>\n",
       "      <td>0.799</td>\n",
       "      <td>0.062</td>\n",
       "      <td>3</td>\n",
       "    </tr>\n",
       "    <tr>\n",
       "      <th>1</th>\n",
       "      <td>Jalsa</td>\n",
       "      <td>4.0</td>\n",
       "      <td>I was here for dinner with my family on a week...</td>\n",
       "      <td>3</td>\n",
       "      <td>0.9623</td>\n",
       "      <td>0.289</td>\n",
       "      <td>0.684</td>\n",
       "      <td>0.027</td>\n",
       "      <td>3</td>\n",
       "    </tr>\n",
       "    <tr>\n",
       "      <th>2</th>\n",
       "      <td>Jalsa</td>\n",
       "      <td>2.0</td>\n",
       "      <td>Its a restaurant near to Banashankari BDA Me a...</td>\n",
       "      <td>1</td>\n",
       "      <td>0.7964</td>\n",
       "      <td>0.172</td>\n",
       "      <td>0.781</td>\n",
       "      <td>0.047</td>\n",
       "      <td>3</td>\n",
       "    </tr>\n",
       "    <tr>\n",
       "      <th>3</th>\n",
       "      <td>Jalsa</td>\n",
       "      <td>4.0</td>\n",
       "      <td>We went here on a weekend and one of us had th...</td>\n",
       "      <td>3</td>\n",
       "      <td>0.9678</td>\n",
       "      <td>0.275</td>\n",
       "      <td>0.725</td>\n",
       "      <td>0.000</td>\n",
       "      <td>3</td>\n",
       "    </tr>\n",
       "    <tr>\n",
       "      <th>4</th>\n",
       "      <td>Jalsa</td>\n",
       "      <td>5.0</td>\n",
       "      <td>The best thing about the place is its ambiance...</td>\n",
       "      <td>3</td>\n",
       "      <td>0.9702</td>\n",
       "      <td>0.395</td>\n",
       "      <td>0.605</td>\n",
       "      <td>0.000</td>\n",
       "      <td>3</td>\n",
       "    </tr>\n",
       "  </tbody>\n",
       "</table>\n",
       "</div>"
      ],
      "text/plain": [
       "    name  rating                                             review  \\\n",
       "0  Jalsa     4.0  A beautiful place to dine inThe interiors take...   \n",
       "1  Jalsa     4.0  I was here for dinner with my family on a week...   \n",
       "2  Jalsa     2.0  Its a restaurant near to Banashankari BDA Me a...   \n",
       "3  Jalsa     4.0  We went here on a weekend and one of us had th...   \n",
       "4  Jalsa     5.0  The best thing about the place is its ambiance...   \n",
       "\n",
       "   sentiment  VADER Score (Compound)  VADER Score (Positive)  \\\n",
       "0          3                  0.7430                   0.139   \n",
       "1          3                  0.9623                   0.289   \n",
       "2          1                  0.7964                   0.172   \n",
       "3          3                  0.9678                   0.275   \n",
       "4          3                  0.9702                   0.395   \n",
       "\n",
       "   VADER Score (Neutral)  VADER Score (Negative)  Sentiment_Final  \n",
       "0                  0.799                   0.062                3  \n",
       "1                  0.684                   0.027                3  \n",
       "2                  0.781                   0.047                3  \n",
       "3                  0.725                   0.000                3  \n",
       "4                  0.605                   0.000                3  "
      ]
     },
     "execution_count": 51,
     "metadata": {},
     "output_type": "execute_result"
    }
   ],
   "source": [
    "# Evaluating for VADER\n",
    "\n",
    "ratingDF_vader.head()\n",
    "\n"
   ]
  },
  {
   "cell_type": "code",
   "execution_count": 63,
   "metadata": {},
   "outputs": [],
   "source": [
    "y_true = list(ratingDF_vader['sentiment'])\n",
    "y_pred = list(ratingDF_vader['Sentiment_Final'])\n",
    "cm = confusion_matrix(y_true,y_pred)\n",
    "\n"
   ]
  },
  {
   "cell_type": "code",
   "execution_count": 84,
   "metadata": {},
   "outputs": [
    {
     "data": {
      "text/plain": [
       "Text(69.0, 0.5, 'Truth')"
      ]
     },
     "execution_count": 84,
     "metadata": {},
     "output_type": "execute_result"
    },
    {
     "data": {
      "image/png": "[encoded data removed]",
      "text/plain": [
       "<Figure size 720x504 with 2 Axes>"
      ]
     },
     "metadata": {
      "needs_background": "light"
     },
     "output_type": "display_data"
    }
   ],
   "source": [
    "plt.figure(figsize=(10,7))\n",
    "sns.heatmap(cm,annot=True,cmap='rainbow',fmt='g')\n",
    "plt.title(\"VADER Confusion matrix\")\n",
    "plt.xlabel(\"Predicted\")\n",
    "plt.ylabel(\"Truth\")"
   ]
  },
  {
   "cell_type": "code",
   "execution_count": 79,
   "metadata": {},
   "outputs": [],
   "source": [
    "precision0 = (cm[0][0])/(cm[0][0]+cm[1][0]+cm[2][0])\n",
    "recall0 = (cm[0][0])/(cm[0][0]+cm[0][1]+cm[0][2]) #aka TRP\n",
    "fscore0 = 2*(precision0*recall0)/(precision0+recall0)\n"
   ]
  },
  {
   "cell_type": "code",
   "execution_count": 80,
   "metadata": {},
   "outputs": [
    {
     "name": "stdout",
     "output_type": "stream",
     "text": [
      "Scores for Negative Reviews Classified\n",
      "Precision:  0.7963702143100861\n",
      "Recall or TPR:  0.5921980531379759\n",
      "F Score:  0.67927361088013\n"
     ]
    }
   ],
   "source": [
    "print(\"Scores for Negative Reviews Classified\")\n",
    "\n",
    "print(\"Precision: \",precision0)\n",
    "print(\"Recall or TPR: \",recall0)\n",
    "print(\"F Score: \",fscore0)\n"
   ]
  },
  {
   "cell_type": "code",
   "execution_count": 81,
   "metadata": {},
   "outputs": [
    {
     "name": "stdout",
     "output_type": "stream",
     "text": [
      "Scores for Neutral Reviews Classified\n",
      "Precision:  0.22954964321156845\n",
      "Recall or TPR:  0.08171968843054457\n",
      "F Score:  0.12053050792784298\n"
     ]
    }
   ],
   "source": [
    "precision1 = (cm[1][1])/(cm[1][1]+cm[0][1]+cm[2][1])\n",
    "recall1 = (cm[1][1])/(cm[1][1]+cm[1][0]+cm[1][2]) #aka TRP\n",
    "fscore1 = 2*(precision1*recall1)/(precision1+recall1)\n",
    "\n",
    "print(\"Scores for Neutral Reviews Classified\")\n",
    "\n",
    "print(\"Precision: \",precision1)\n",
    "print(\"Recall or TPR: \",recall1)\n",
    "print(\"F Score: \",fscore1)\n"
   ]
  },
  {
   "cell_type": "code",
   "execution_count": 83,
   "metadata": {},
   "outputs": [
    {
     "name": "stdout",
     "output_type": "stream",
     "text": [
      "Scores for Postive Reviews Classified\n",
      "Precision:  0.7603430143192298\n",
      "Recall or TPR:  0.9579977143734253\n",
      "F Score:  0.8478026013057468\n"
     ]
    }
   ],
   "source": [
    "precision2 = (cm[2][2])/(cm[2][2]+cm[0][2]+cm[1][2])\n",
    "recall2 = (cm[2][2])/(cm[2][2]+cm[2][0]+cm[2][1]) #aka TRP\n",
    "fscore2 = 2*(precision2*recall2)/(precision2+recall2)\n",
    "\n",
    "print(\"Scores for Postive Reviews Classified\")\n",
    "\n",
    "print(\"Precision: \",precision2)\n",
    "print(\"Recall or TPR: \",recall2)\n",
    "print(\"F Score: \",fscore2)"
   ]
  },
  {
   "cell_type": "code",
   "execution_count": 85,
   "metadata": {},
   "outputs": [],
   "source": [
    "y_true = list(ratingDF_TextBlob['sentiment'])\n",
    "y_pred = list(ratingDF_TextBlob['Sentiment_Final Blob'])\n",
    "cm = confusion_matrix(y_true,y_pred)"
   ]
  },
  {
   "cell_type": "code",
   "execution_count": 86,
   "metadata": {},
   "outputs": [
    {
     "data": {
      "text/plain": [
       "array([[125591,  76703,  46003],\n",
       "       [ 18420,  53791, 165553],\n",
       "       [ 11435,  73887, 748585]], dtype=int64)"
      ]
     },
     "execution_count": 86,
     "metadata": {},
     "output_type": "execute_result"
    }
   ],
   "source": [
    "cm"
   ]
  },
  {
   "cell_type": "code",
   "execution_count": 87,
   "metadata": {},
   "outputs": [
    {
     "data": {
      "text/plain": [
       "Text(69.0, 0.5, 'Truth')"
      ]
     },
     "execution_count": 87,
     "metadata": {},
     "output_type": "execute_result"
    },
    {
     "data": {
      "image/png": "[encoded data removed]",
      "text/plain": [
       "<Figure size 720x504 with 2 Axes>"
      ]
     },
     "metadata": {
      "needs_background": "light"
     },
     "output_type": "display_data"
    }
   ],
   "source": [
    "plt.figure(figsize=(10,7))\n",
    "sns.heatmap(cm,annot=True,cmap='rainbow',fmt='g')\n",
    "plt.title(\"TEXTBLOB Confusion matrix\")\n",
    "plt.xlabel(\"Predicted\")\n",
    "plt.ylabel(\"Truth\")"
   ]
  },
  {
   "cell_type": "code",
   "execution_count": 88,
   "metadata": {},
   "outputs": [
    {
     "name": "stdout",
     "output_type": "stream",
     "text": [
      "Scores for Negative Reviews Classified\n",
      "Precision:  0.8079397346988665\n",
      "Recall or TPR:  0.505809574823699\n",
      "F Score:  0.6221333868327129\n"
     ]
    }
   ],
   "source": [
    "precision0 = (cm[0][0])/(cm[0][0]+cm[1][0]+cm[2][0])\n",
    "recall0 = (cm[0][0])/(cm[0][0]+cm[0][1]+cm[0][2]) #aka TRP\n",
    "fscore0 = 2*(precision0*recall0)/(precision0+recall0)\n",
    "\n",
    "print(\"Scores for Negative Reviews Classified\")\n",
    "\n",
    "print(\"Precision: \",precision0)\n",
    "print(\"Recall or TPR: \",recall0)\n",
    "print(\"F Score: \",fscore0)\n"
   ]
  },
  {
   "cell_type": "code",
   "execution_count": 89,
   "metadata": {},
   "outputs": [
    {
     "name": "stdout",
     "output_type": "stream",
     "text": [
      "Scores for Neutral Reviews Classified\n",
      "Precision:  0.263189826843004\n",
      "Recall or TPR:  0.2262369408320856\n",
      "F Score:  0.24331836840855375\n"
     ]
    }
   ],
   "source": [
    "precision1 = (cm[1][1])/(cm[1][1]+cm[0][1]+cm[2][1])\n",
    "recall1 = (cm[1][1])/(cm[1][1]+cm[1][0]+cm[1][2]) #aka TRP\n",
    "fscore1 = 2*(precision1*recall1)/(precision1+recall1)\n",
    "\n",
    "print(\"Scores for Neutral Reviews Classified\")\n",
    "\n",
    "print(\"Precision: \",precision1)\n",
    "print(\"Recall or TPR: \",recall1)\n",
    "print(\"F Score: \",fscore1)\n"
   ]
  },
  {
   "cell_type": "code",
   "execution_count": 90,
   "metadata": {},
   "outputs": [
    {
     "name": "stdout",
     "output_type": "stream",
     "text": [
      "Scores for Postive Reviews Classified\n",
      "Precision:  0.7796615288796125\n",
      "Recall or TPR:  0.8976840343107805\n",
      "F Score:  0.8345205925371005\n"
     ]
    }
   ],
   "source": [
    "precision2 = (cm[2][2])/(cm[2][2]+cm[0][2]+cm[1][2])\n",
    "recall2 = (cm[2][2])/(cm[2][2]+cm[2][0]+cm[2][1]) #aka TRP\n",
    "fscore2 = 2*(precision2*recall2)/(precision2+recall2)\n",
    "\n",
    "print(\"Scores for Postive Reviews Classified\")\n",
    "\n",
    "print(\"Precision: \",precision2)\n",
    "print(\"Recall or TPR: \",recall2)\n",
    "print(\"F Score: \",fscore2)"
   ]
  },
  {
   "cell_type": "code",
   "execution_count": null,
   "metadata": {},
   "outputs": [],
   "source": []
  }
 ],
 "metadata": {
  "kernelspec": {
   "display_name": "Python 3",
   "language": "python",
   "name": "python3"
  },
  "language_info": {
   "codemirror_mode": {
    "name": "ipython",
    "version": 3
   },
   "file_extension": ".py",
   "mimetype": "text/x-python",
   "name": "python",
   "nbconvert_exporter": "python",
   "pygments_lexer": "ipython3",
   "version": "3.7.7"
  }
 },
 "nbformat": 4,
 "nbformat_minor": 4
}
